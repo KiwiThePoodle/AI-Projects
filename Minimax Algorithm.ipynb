{
 "cells": [
  {
   "attachments": {},
   "cell_type": "markdown",
   "metadata": {},
   "source": [
    "## The World\n",
    "\n",
    "A `List of Lists` is used to represent the world. Cells marked as '⬛' are obstacles in the world and are not traversable."
   ]
  },
  {
   "cell_type": "code",
   "execution_count": 1,
   "metadata": {},
   "outputs": [],
   "source": [
    "world = [\n",
    "['⬜','⬜','⬜','⬜','⬜','⬜','⬜','⬜','⬜','⬜','⬜','⬜','⬜','⬜','⬜','⬜','⬜','⬜','⬜','⬜','⬜'],\n",
    "['⬜','⬜','⬜','⬜','⬜','⬜','⬜','⬜','⬜','⬜','⬜','⬜','⬜','⬜','⬜','⬜','⬜','⬜','⬜','⬜','⬜'],\n",
    "['⬜','⬜','⬜','⬜','⬜','⬜','⬜','⬜','⬜','⬜','⬜','⬜','⬜','⬜','⬜','⬜','⬜','⬜','⬜','⬜','⬜'],\n",
    "['⬜','⬜','⬜','⬜','⬜','⬜','⬜','⬜','⬜','⬜','⬜','⬜','⬜','⬜','⬜','⬜','⬜','⬜','⬜','⬜','⬜'],\n",
    "['⬜','⬜','⬜','⬜','⬜','⬜','⬜','⬜','⬜','⬜','⬜','⬜','⬜','⬜','⬜','⬜','⬜','⬜','⬜','⬜','⬜'],\n",
    "['⬜','⬜','⬜','⬜','⬜','⬜','⬜','⬜','⬜','⬜','⬜','⬜','⬜','⬜','⬜','⬜','⬜','⬜','⬜','⬜','⬜'],\n",
    "['⬜','⬜','⬜','⬜','⬜','⬜','⬜','⬜','⬜','⬜','⬜','⬜','⬜','⬜','⬜','⬜','⬜','⬜','⬜','⬜','⬜'],\n",
    "['⬜','⬜','⬜','⬜','⬜','⬜','⬜','⬜','⬜','⬜','⬜','⬜','⬜','⬜','⬜','⬜','⬜','⬜','⬜','⬜','⬜'],\n",
    "['⬜','⬜','⬜','⬜','⬜','⬜','⬜','⬜','⬜','⬜','⬜','⬜','⬜','⬜','⬜','⬜','⬜','⬜','⬜','⬜','⬜'],\n",
    "['⬜','⬜','⬜','⬜','⬜','⬜','⬜','⬜','⬜','⬛','⬛','⬛','⬜','⬜','⬜','⬜','⬜','⬜','⬜','⬜','⬜'],\n",
    "['⬜','⬜','⬜','⬜','⬜','⬜','⬜','⬜','⬜','⬛','⬛','⬛','⬜','⬜','⬜','⬜','⬜','⬜','⬜','⬜','⬜'],\n",
    "['⬜','⬜','⬜','⬜','⬜','⬜','⬜','⬜','⬜','⬛','⬛','⬛','⬜','⬜','⬜','⬜','⬜','⬜','⬜','⬜','⬜'],\n",
    "['⬜','⬜','⬜','⬜','⬜','⬜','⬜','⬜','⬜','⬜','⬜','⬜','⬜','⬜','⬜','⬜','⬜','⬜','⬜','⬜','⬜'],\n",
    "['⬜','⬜','⬜','⬜','⬜','⬜','⬜','⬜','⬜','⬜','⬜','⬜','⬜','⬜','⬜','⬜','⬜','⬜','⬜','⬜','⬜'],\n",
    "['⬜','⬜','⬜','⬜','⬜','⬜','⬜','⬜','⬜','⬜','⬜','⬜','⬜','⬜','⬜','⬜','⬜','⬜','⬜','⬜','⬜'],\n",
    "['⬜','⬜','⬜','⬜','⬜','⬜','⬜','⬜','⬜','⬜','⬜','⬜','⬜','⬜','⬜','⬜','⬜','⬜','⬜','⬜','⬜'],\n",
    "['⬜','⬜','⬜','⬜','⬜','⬜','⬜','⬜','⬜','⬜','⬜','⬜','⬜','⬜','⬜','⬜','⬜','⬜','⬜','⬜','⬜'],\n",
    "['⬜','⬜','⬜','⬜','⬜','⬜','⬜','⬜','⬜','⬜','⬜','⬜','⬜','⬜','⬜','⬜','⬜','⬜','⬜','⬜','⬜'],\n",
    "['⬜','⬜','⬜','⬜','⬜','⬜','⬜','⬜','⬜','⬜','⬜','⬜','⬜','⬜','⬜','⬜','⬜','⬜','⬜','⬜','⬜'],\n",
    "['⬜','⬜','⬜','⬜','⬜','⬜','⬜','⬜','⬜','⬜','⬜','⬜','⬜','⬜','⬜','⬜','⬜','⬜','⬜','⬜','⬜'],\n",
    "['⬜','⬜','⬜','⬜','⬜','⬜','⬜','⬜','⬜','⬜','⬜','⬜','⬜','⬜','⬜','⬜','⬜','⬜','⬜','⬜','⬜']]"
   ]
  },
  {
   "attachments": {},
   "cell_type": "markdown",
   "metadata": {},
   "source": [
    "## Robot\n",
    "\n",
    "Our robot '🤖' starts at the bottom left and can either move up, down, left, or right. It needs to get to the '❤️' in the world. Unlike the previous assignment, the robot now knows where the heart is."
   ]
  },
  {
   "cell_type": "code",
   "execution_count": 2,
   "metadata": {},
   "outputs": [],
   "source": [
    "MOVES = [(0,-1), (1,0), (0,1), (-1,0)]"
   ]
  },
  {
   "cell_type": "code",
   "execution_count": 3,
   "metadata": {},
   "outputs": [],
   "source": [
    "good_start = (len(world)-1, 0)"
   ]
  },
  {
   "cell_type": "code",
   "execution_count": 4,
   "metadata": {},
   "outputs": [],
   "source": [
    "goal = (0, len(world)-1)"
   ]
  },
  {
   "attachments": {},
   "cell_type": "markdown",
   "metadata": {},
   "source": [
    "## Bad Robot\n",
    "\n",
    "We have a bad robot '👾', too, that starts at the bottom right and can also either move up, down, left, or right. It wants to zap our robot. The zapper range isn't that great, so our robot is considered zapped if it is anywhere in a 3x3 cell centered at the bad robot."
   ]
  },
  {
   "cell_type": "code",
   "execution_count": 5,
   "metadata": {},
   "outputs": [],
   "source": [
    "bad_start = (len(world)-1, len(world)-1)"
   ]
  },
  {
   "cell_type": "code",
   "execution_count": 6,
   "metadata": {},
   "outputs": [],
   "source": [
    "# Update the world with this information\n",
    "world[good_start[0]][good_start[1]] = '🤖'\n",
    "world[goal[0]][goal[1]] = '❤️'\n",
    "world[bad_start[0]][bad_start[1]] = '👾'"
   ]
  },
  {
   "cell_type": "code",
   "execution_count": 7,
   "metadata": {},
   "outputs": [
    {
     "name": "stdout",
     "output_type": "stream",
     "text": [
      "⬜⬜⬜⬜⬜⬜⬜⬜⬜⬜⬜⬜⬜⬜⬜⬜⬜⬜⬜⬜❤️\n",
      "⬜⬜⬜⬜⬜⬜⬜⬜⬜⬜⬜⬜⬜⬜⬜⬜⬜⬜⬜⬜⬜\n",
      "⬜⬜⬜⬜⬜⬜⬜⬜⬜⬜⬜⬜⬜⬜⬜⬜⬜⬜⬜⬜⬜\n",
      "⬜⬜⬜⬜⬜⬜⬜⬜⬜⬜⬜⬜⬜⬜⬜⬜⬜⬜⬜⬜⬜\n",
      "⬜⬜⬜⬜⬜⬜⬜⬜⬜⬜⬜⬜⬜⬜⬜⬜⬜⬜⬜⬜⬜\n",
      "⬜⬜⬜⬜⬜⬜⬜⬜⬜⬜⬜⬜⬜⬜⬜⬜⬜⬜⬜⬜⬜\n",
      "⬜⬜⬜⬜⬜⬜⬜⬜⬜⬜⬜⬜⬜⬜⬜⬜⬜⬜⬜⬜⬜\n",
      "⬜⬜⬜⬜⬜⬜⬜⬜⬜⬜⬜⬜⬜⬜⬜⬜⬜⬜⬜⬜⬜\n",
      "⬜⬜⬜⬜⬜⬜⬜⬜⬜⬜⬜⬜⬜⬜⬜⬜⬜⬜⬜⬜⬜\n",
      "⬜⬜⬜⬜⬜⬜⬜⬜⬜⬛⬛⬛⬜⬜⬜⬜⬜⬜⬜⬜⬜\n",
      "⬜⬜⬜⬜⬜⬜⬜⬜⬜⬛⬛⬛⬜⬜⬜⬜⬜⬜⬜⬜⬜\n",
      "⬜⬜⬜⬜⬜⬜⬜⬜⬜⬛⬛⬛⬜⬜⬜⬜⬜⬜⬜⬜⬜\n",
      "⬜⬜⬜⬜⬜⬜⬜⬜⬜⬜⬜⬜⬜⬜⬜⬜⬜⬜⬜⬜⬜\n",
      "⬜⬜⬜⬜⬜⬜⬜⬜⬜⬜⬜⬜⬜⬜⬜⬜⬜⬜⬜⬜⬜\n",
      "⬜⬜⬜⬜⬜⬜⬜⬜⬜⬜⬜⬜⬜⬜⬜⬜⬜⬜⬜⬜⬜\n",
      "⬜⬜⬜⬜⬜⬜⬜⬜⬜⬜⬜⬜⬜⬜⬜⬜⬜⬜⬜⬜⬜\n",
      "⬜⬜⬜⬜⬜⬜⬜⬜⬜⬜⬜⬜⬜⬜⬜⬜⬜⬜⬜⬜⬜\n",
      "⬜⬜⬜⬜⬜⬜⬜⬜⬜⬜⬜⬜⬜⬜⬜⬜⬜⬜⬜⬜⬜\n",
      "⬜⬜⬜⬜⬜⬜⬜⬜⬜⬜⬜⬜⬜⬜⬜⬜⬜⬜⬜⬜⬜\n",
      "⬜⬜⬜⬜⬜⬜⬜⬜⬜⬜⬜⬜⬜⬜⬜⬜⬜⬜⬜⬜⬜\n",
      "🤖⬜⬜⬜⬜⬜⬜⬜⬜⬜⬜⬜⬜⬜⬜⬜⬜⬜⬜⬜👾\n"
     ]
    }
   ],
   "source": [
    "# A nicer view of the world, without commas and brackets\n",
    "for row in world:\n",
    "    print(\"\".join(row))"
   ]
  },
  {
   "attachments": {},
   "cell_type": "markdown",
   "metadata": {},
   "source": [
    "## Game\n",
    "\n",
    "* We have two players: our original good robot and the new bad robot '👾'\n",
    "* At each turn of the game, a player gets to move in the world\n",
    "* Players only get to move according to `MOVES`\n",
    "* '⬛' are obstacles that neither robot can traverse\n",
    "* Each player knows the other player's current location\n",
    "* '🤖' wants to get to the '❤️' without being zapped\n",
    "* '👾' is trying to zap '🤖'\n",
    "* '🤖' wins if it gets to the '❤️'\n",
    "* '👾' wins if it zaps the good robot\n",
    "* The game is over when either player wins."
   ]
  },
  {
   "cell_type": "code",
   "execution_count": 8,
   "metadata": {},
   "outputs": [],
   "source": [
    "import math\n",
    "import random"
   ]
  },
  {
   "attachments": {},
   "cell_type": "markdown",
   "metadata": {},
   "source": [
    "<a id=\"breadth_first_search\"></a>\n",
    "## MINIMAX\n",
    "\n",
    "Minimax algorithm\n",
    "\n",
    "* **world** List[List[str]]: the search area\n",
    "* **currLocation** Tuple[int, int]: the location of the current robot\n",
    "* **oppLocation** Tuple[int, int]: the location of the opposing robot\n",
    "* **goal** Tuple[int, int]: the goal location in the world\n",
    "* **moves** List[Tuple[int, int]]: the allowable moves in the world\n",
    "* **depth** int: the depth of minimax function\n",
    "* **scoring** function: the scoring system used\n",
    "* **isGoodRobot** Boolean: is or is not good robot\n",
    "\n",
    "\n",
    "**returns** Tuple[int, int]: the best move for this turn"
   ]
  },
  {
   "cell_type": "code",
   "execution_count": 9,
   "metadata": {},
   "outputs": [],
   "source": [
    "def MINIMAX(world, currLocation, oppLocation, goal, moves, depth, scoring, isGoodRobot):\n",
    "    bestMove = None\n",
    "    bestScore = -math.inf\n",
    "    if depth == 0:\n",
    "        return bestMove\n",
    "    for move in moves:\n",
    "        nextLocation = (currLocation[0] + move[0], currLocation[1] + move[1])\n",
    "        if (isGoodRobot and nextLocation == goal) or (not isGoodRobot and nextLocation == oppLocation):\n",
    "            return move\n",
    "        if isValidLocation(nextLocation, world, isGoodRobot):\n",
    "            score = MIN_VALUE(world, nextLocation, oppLocation, goal, moves, depth - 1, scoring, not isGoodRobot)\n",
    "            if score > bestScore:\n",
    "                bestMove = move\n",
    "                bestScore = score\n",
    "    return bestMove"
   ]
  },
  {
   "attachments": {},
   "cell_type": "markdown",
   "metadata": {},
   "source": [
    "<a id=\"breadth_first_search\"></a>\n",
    "## MAX_VALUE\n",
    "\n",
    "Maximizing function in minimax algorithm\n",
    "\n",
    "* **world** List[List[str]]: the search area\n",
    "* **currLocation** Tuple[int, int]: the location of the current robot\n",
    "* **oppLocation** Tuple[int, int]: the location of the opposing robot\n",
    "* **goal** Tuple[int, int]: the goal location in the world\n",
    "* **moves** List[Tuple[int, int]]: the allowable moves in the world\n",
    "* **depth** int: the depth of minimax function\n",
    "* **scoring** function: the scoring system used\n",
    "* **isGoodRobot** Boolean: is or is not good robot\n",
    "\n",
    "\n",
    "**returns** int: maximum score possible for current robot on current turn"
   ]
  },
  {
   "cell_type": "code",
   "execution_count": 10,
   "metadata": {},
   "outputs": [],
   "source": [
    "def MAX_VALUE(world, currLocation, oppLocation, goal, moves, depth, scoring, isGoodRobot):\n",
    "    if depth == 0:\n",
    "        return scoring(currLocation, oppLocation, goal)\n",
    "    maxScore = -math.inf\n",
    "    for move in moves:\n",
    "        nextLocation = (currLocation[0] + move[0], currLocation[1] + move[1])\n",
    "        if isValidLocation(nextLocation, world, isGoodRobot):\n",
    "            maxScore = max(maxScore, MIN_VALUE(world, nextLocation, oppLocation, goal, moves, depth - 1, scoring, not isGoodRobot))\n",
    "    return maxScore"
   ]
  },
  {
   "attachments": {},
   "cell_type": "markdown",
   "metadata": {},
   "source": [
    "<a id=\"breadth_first_search\"></a>\n",
    "## MIN_VALUE\n",
    "\n",
    "Minimizing function in minimax algorithm\n",
    "\n",
    "* **world** List[List[str]]: the search area\n",
    "* **currLocation** Tuple[int, int]: the location of the current robot\n",
    "* **oppLocation** Tuple[int, int]: the location of the opposing robot\n",
    "* **goal** Tuple[int, int]: the goal location in the world\n",
    "* **moves** List[Tuple[int, int]]: the allowable moves in the world\n",
    "* **depth** int: the depth of minimax function\n",
    "* **scoring** function: the scoring system used\n",
    "* **isGoodRobot** Boolean: is or is not good robot\n",
    "\n",
    "\n",
    "**returns** int: minimum score possible for current robot on current turn"
   ]
  },
  {
   "cell_type": "code",
   "execution_count": 11,
   "metadata": {},
   "outputs": [],
   "source": [
    "def MIN_VALUE(world, currLocation, oppLocation, goal, moves, depth, scoring, isGoodRobot):\n",
    "    if depth == 0:\n",
    "        return scoring(currLocation, oppLocation, goal)\n",
    "    minScore = math.inf\n",
    "    for move in moves:\n",
    "        nextLocation = (oppLocation[0] + move[0], oppLocation[1] + move[1])\n",
    "        if isValidLocation(nextLocation, world, isGoodRobot):\n",
    "            minScore = min(minScore, MAX_VALUE(world, currLocation, nextLocation, goal, moves, depth - 1, scoring, not isGoodRobot))\n",
    "    return minScore"
   ]
  },
  {
   "attachments": {},
   "cell_type": "markdown",
   "metadata": {},
   "source": [
    "<a id=\"breadth_first_search\"></a>\n",
    "## random_strategy\n",
    "\n",
    "Strategy where the robot chooses a random move\n",
    "\n",
    "* **world** List[List[str]]: the search area\n",
    "* **currLocation** Tuple[int, int]: the location of the current robot\n",
    "* **moves** List[Tuple[int, int]]: the allowable moves in the world\n",
    "* **isGoodRobot** Boolean: is or is not good robot\n",
    "\n",
    "\n",
    "**returns** Tuple[int, int]: random move"
   ]
  },
  {
   "cell_type": "code",
   "execution_count": 12,
   "metadata": {},
   "outputs": [],
   "source": [
    "def random_strategy(world, currLocation, moves, isGoodRobot):\n",
    "    move = moves[random.randint(0, len(moves) - 1)]\n",
    "    nextLocation = (currLocation[0] + move[0], currLocation[1] + move[1])\n",
    "    while not isValidLocation(nextLocation, world, isGoodRobot):\n",
    "        move = moves[random.randint(0, len(moves) - 1)]\n",
    "        nextLocation = (currLocation[0] + move[0], currLocation[1] + move[1])\n",
    "    return move"
   ]
  },
  {
   "attachments": {},
   "cell_type": "markdown",
   "metadata": {},
   "source": [
    "<a id=\"breadth_first_search\"></a>\n",
    "## Helper functions"
   ]
  },
  {
   "attachments": {},
   "cell_type": "markdown",
   "metadata": {},
   "source": [
    "<a id=\"breadth_first_search\"></a>\n",
    "## isValidLocation\n",
    "\n",
    "Checks if the current location is valid for the current robot\n",
    "\n",
    "* **location** Tuple[int, int]: the location of the current robot\n",
    "* **world** List[List[str]]: the search area\n",
    "* **isGoodRobot** Boolean: is or is not good robot\n",
    "\n",
    "\n",
    "**returns** Boolean: is or is not valid location in the world"
   ]
  },
  {
   "cell_type": "code",
   "execution_count": 13,
   "metadata": {},
   "outputs": [],
   "source": [
    "def isValidLocation(location, world, isGoodRobot):\n",
    "    if location[0] < 0 or location[0] >= len(world) or location[1] < 0 or location[1] >= len(world[0]):\n",
    "        return False\n",
    "    if world[location[0]][location[1]] == '⬛':\n",
    "        return False\n",
    "    if location == goal and not isGoodRobot:\n",
    "        return False\n",
    "    return True"
   ]
  },
  {
   "attachments": {},
   "cell_type": "markdown",
   "metadata": {},
   "source": [
    "<a id=\"breadth_first_search\"></a>\n",
    "## goodScoring\n",
    "\n",
    "Scoring function for good robot\n",
    "\n",
    "* **currLocation** Tuple[int, int]: the location of the current robot\n",
    "* **oppLocation** Tuple[int, int]: the location of the opposing robot\n",
    "* **goal** Tuple[int, int]: the location of the goal\n",
    "\n",
    "\n",
    "**returns** int: score for the potential move"
   ]
  },
  {
   "cell_type": "code",
   "execution_count": 14,
   "metadata": {},
   "outputs": [],
   "source": [
    "def goodScoring(currLocation, oppLocation, goal):\n",
    "    score = -math.dist(currLocation, goal)\n",
    "    score += math.dist(currLocation, oppLocation)\n",
    "    return score"
   ]
  },
  {
   "attachments": {},
   "cell_type": "markdown",
   "metadata": {},
   "source": [
    "<a id=\"breadth_first_search\"></a>\n",
    "## badScoring\n",
    "\n",
    "Scoring function for bad robot\n",
    "\n",
    "* **currLocation** Tuple[int, int]: the location of the current robot\n",
    "* **oppLocation** Tuple[int, int]: the location of the opposing robot\n",
    "* **goal** Tuple[int, int]: the location of the goal\n",
    "\n",
    "\n",
    "**returns** int: score for the potential move"
   ]
  },
  {
   "cell_type": "code",
   "execution_count": 15,
   "metadata": {},
   "outputs": [],
   "source": [
    "def badScoring(currLocation, oppLocation, goal):\n",
    "    score = -math.dist(currLocation, oppLocation)\n",
    "    return score"
   ]
  },
  {
   "attachments": {},
   "cell_type": "markdown",
   "metadata": {},
   "source": [
    "<a id=\"breadth_first_search\"></a>\n",
    "## run_robot_game\n",
    "\n",
    "Robot game where good robot uses minimax and bad robot uses random strategy\n",
    "\n",
    "* **world** List[List[str]]: the search area\n",
    "* **good_start** Tuple[int, int]: the starting location of the good robot\n",
    "* **bad_start** Tuple[int, int]: the starting location of the bad robot\n",
    "* **goal** Tuple[int, int]: the goal location in the world\n",
    "* **moves** List[Tuple[int, int]]: the allowable moves in the world\n",
    "* **good_strategy** str: name of strategy to use for good robot: either random_strategy or MINIMAX with option to set depth\n",
    "* **bad_strategy** str: name of strategy to use for bad robot: either random_strategy or MINIMAX with option to set depth\n",
    "* **depth** int: the depth of minimax function\n",
    "* **scoring** function: the scoring system used\n",
    "\n",
    "\n",
    "**returns** None (but prints out a nice view of the world and replaces appropriate cells)."
   ]
  },
  {
   "cell_type": "code",
   "execution_count": 16,
   "metadata": {},
   "outputs": [],
   "source": [
    "def run_robot_game(world, good_start, bad_start, goal, moves, good_strategy, bad_strategy, depth, scoring):\n",
    "    goodTurn = True\n",
    "    while good_start != goal and good_start != bad_start:\n",
    "        if goodTurn:\n",
    "            bestMove = good_strategy(world, good_start, bad_start, goal, moves, depth, scoring, goodTurn)\n",
    "            world[good_start[0]][good_start[1]] = '🟩'\n",
    "            good_start = (good_start[0] + bestMove[0], good_start[1] + bestMove[1])\n",
    "            world[good_start[0]][good_start[1]] = '🤖'\n",
    "            goodTurn = not goodTurn\n",
    "        else:\n",
    "            bestMove = bad_strategy(world, bad_start, moves, goodTurn)\n",
    "            world[bad_start[0]][bad_start[1]] = '🟥'\n",
    "            bad_start = (bad_start[0] + bestMove[0], bad_start[1] + bestMove[1])\n",
    "            world[bad_start[0]][bad_start[1]] = '👾'\n",
    "            goodTurn = not goodTurn"
   ]
  },
  {
   "cell_type": "code",
   "execution_count": 17,
   "metadata": {},
   "outputs": [
    {
     "name": "stdout",
     "output_type": "stream",
     "text": [
      "🟩🟩🟩🟩🟩🟩🟩🟩🟩🟩🟩🟩🟩🟩🟩🟩🟩🟩🟩🟩🤖\n",
      "🟩⬜⬜⬜⬜⬜⬜⬜⬜⬜⬜⬜⬜⬜⬜⬜⬜⬜⬜⬜⬜\n",
      "🟩⬜⬜⬜⬜⬜⬜⬜⬜⬜⬜⬜⬜⬜⬜⬜⬜⬜⬜⬜⬜\n",
      "🟩⬜⬜⬜⬜⬜⬜⬜⬜⬜⬜⬜⬜⬜⬜⬜⬜⬜⬜⬜⬜\n",
      "🟩⬜⬜⬜⬜⬜⬜⬜⬜⬜⬜⬜⬜⬜⬜⬜⬜⬜⬜⬜⬜\n",
      "🟩⬜⬜⬜⬜⬜⬜⬜⬜⬜⬜⬜⬜⬜⬜⬜⬜⬜⬜⬜⬜\n",
      "🟩⬜⬜⬜⬜⬜⬜⬜⬜⬜⬜⬜⬜⬜⬜⬜⬜⬜⬜⬜⬜\n",
      "🟩⬜⬜⬜⬜⬜⬜⬜⬜⬜⬜⬜⬜⬜⬜⬜⬜⬜⬜⬜⬜\n",
      "🟩⬜⬜⬜⬜⬜⬜⬜⬜⬜⬜⬜⬜⬜⬜⬜⬜⬜⬜⬜⬜\n",
      "🟩⬜⬜⬜⬜⬜⬜⬜⬜⬛⬛⬛⬜⬜⬜⬜⬜⬜⬜⬜⬜\n",
      "🟩⬜⬜⬜⬜⬜⬜⬜⬜⬛⬛⬛⬜⬜⬜⬜⬜⬜⬜⬜⬜\n",
      "🟩⬜⬜⬜⬜⬜⬜⬜⬜⬛⬛⬛⬜⬜⬜⬜⬜⬜⬜⬜⬜\n",
      "🟩⬜⬜⬜⬜⬜⬜⬜⬜⬜⬜⬜⬜⬜⬜⬜⬜⬜⬜⬜⬜\n",
      "🟩⬜⬜⬜⬜⬜⬜⬜⬜⬜⬜⬜⬜⬜⬜⬜⬜⬜⬜⬜⬜\n",
      "🟩⬜⬜⬜⬜⬜⬜⬜⬜⬜⬜⬜⬜⬜⬜⬜⬜⬜⬜⬜⬜\n",
      "🟩⬜⬜⬜⬜⬜⬜⬜⬜⬜⬜⬜⬜⬜⬜⬜⬜⬜⬜⬜⬜\n",
      "🟩⬜⬜⬜⬜⬜⬜⬜⬜⬜⬜⬜⬜⬜⬜⬜⬜⬜⬜⬜⬜\n",
      "🟩⬜⬜⬜⬜⬜⬜⬜⬜⬜⬜⬜⬜⬜👾⬜⬜⬜⬜⬜⬜\n",
      "🟩⬜⬜⬜⬜⬜⬜⬜⬜⬜⬜⬜⬜⬜🟥🟥🟥🟥🟥🟥🟥\n",
      "🟩⬜⬜⬜⬜⬜⬜⬜⬜⬜⬜⬜⬜⬜🟥🟥🟥🟥🟥🟥⬜\n",
      "🟩⬜⬜⬜⬜⬜⬜⬜⬜⬜⬜⬜⬜⬜⬜🟥🟥⬜🟥🟥🟥\n"
     ]
    }
   ],
   "source": [
    "world = [\n",
    "['⬜','⬜','⬜','⬜','⬜','⬜','⬜','⬜','⬜','⬜','⬜','⬜','⬜','⬜','⬜','⬜','⬜','⬜','⬜','⬜','⬜'],\n",
    "['⬜','⬜','⬜','⬜','⬜','⬜','⬜','⬜','⬜','⬜','⬜','⬜','⬜','⬜','⬜','⬜','⬜','⬜','⬜','⬜','⬜'],\n",
    "['⬜','⬜','⬜','⬜','⬜','⬜','⬜','⬜','⬜','⬜','⬜','⬜','⬜','⬜','⬜','⬜','⬜','⬜','⬜','⬜','⬜'],\n",
    "['⬜','⬜','⬜','⬜','⬜','⬜','⬜','⬜','⬜','⬜','⬜','⬜','⬜','⬜','⬜','⬜','⬜','⬜','⬜','⬜','⬜'],\n",
    "['⬜','⬜','⬜','⬜','⬜','⬜','⬜','⬜','⬜','⬜','⬜','⬜','⬜','⬜','⬜','⬜','⬜','⬜','⬜','⬜','⬜'],\n",
    "['⬜','⬜','⬜','⬜','⬜','⬜','⬜','⬜','⬜','⬜','⬜','⬜','⬜','⬜','⬜','⬜','⬜','⬜','⬜','⬜','⬜'],\n",
    "['⬜','⬜','⬜','⬜','⬜','⬜','⬜','⬜','⬜','⬜','⬜','⬜','⬜','⬜','⬜','⬜','⬜','⬜','⬜','⬜','⬜'],\n",
    "['⬜','⬜','⬜','⬜','⬜','⬜','⬜','⬜','⬜','⬜','⬜','⬜','⬜','⬜','⬜','⬜','⬜','⬜','⬜','⬜','⬜'],\n",
    "['⬜','⬜','⬜','⬜','⬜','⬜','⬜','⬜','⬜','⬜','⬜','⬜','⬜','⬜','⬜','⬜','⬜','⬜','⬜','⬜','⬜'],\n",
    "['⬜','⬜','⬜','⬜','⬜','⬜','⬜','⬜','⬜','⬛','⬛','⬛','⬜','⬜','⬜','⬜','⬜','⬜','⬜','⬜','⬜'],\n",
    "['⬜','⬜','⬜','⬜','⬜','⬜','⬜','⬜','⬜','⬛','⬛','⬛','⬜','⬜','⬜','⬜','⬜','⬜','⬜','⬜','⬜'],\n",
    "['⬜','⬜','⬜','⬜','⬜','⬜','⬜','⬜','⬜','⬛','⬛','⬛','⬜','⬜','⬜','⬜','⬜','⬜','⬜','⬜','⬜'],\n",
    "['⬜','⬜','⬜','⬜','⬜','⬜','⬜','⬜','⬜','⬜','⬜','⬜','⬜','⬜','⬜','⬜','⬜','⬜','⬜','⬜','⬜'],\n",
    "['⬜','⬜','⬜','⬜','⬜','⬜','⬜','⬜','⬜','⬜','⬜','⬜','⬜','⬜','⬜','⬜','⬜','⬜','⬜','⬜','⬜'],\n",
    "['⬜','⬜','⬜','⬜','⬜','⬜','⬜','⬜','⬜','⬜','⬜','⬜','⬜','⬜','⬜','⬜','⬜','⬜','⬜','⬜','⬜'],\n",
    "['⬜','⬜','⬜','⬜','⬜','⬜','⬜','⬜','⬜','⬜','⬜','⬜','⬜','⬜','⬜','⬜','⬜','⬜','⬜','⬜','⬜'],\n",
    "['⬜','⬜','⬜','⬜','⬜','⬜','⬜','⬜','⬜','⬜','⬜','⬜','⬜','⬜','⬜','⬜','⬜','⬜','⬜','⬜','⬜'],\n",
    "['⬜','⬜','⬜','⬜','⬜','⬜','⬜','⬜','⬜','⬜','⬜','⬜','⬜','⬜','⬜','⬜','⬜','⬜','⬜','⬜','⬜'],\n",
    "['⬜','⬜','⬜','⬜','⬜','⬜','⬜','⬜','⬜','⬜','⬜','⬜','⬜','⬜','⬜','⬜','⬜','⬜','⬜','⬜','⬜'],\n",
    "['⬜','⬜','⬜','⬜','⬜','⬜','⬜','⬜','⬜','⬜','⬜','⬜','⬜','⬜','⬜','⬜','⬜','⬜','⬜','⬜','⬜'],\n",
    "['⬜','⬜','⬜','⬜','⬜','⬜','⬜','⬜','⬜','⬜','⬜','⬜','⬜','⬜','⬜','⬜','⬜','⬜','⬜','⬜','⬜']]\n",
    "good_start = (len(world)-1, 0)\n",
    "bad_start = (len(world)-1, len(world)-1)\n",
    "goal = (0, len(world)-1)\n",
    "MOVES = [(0,-1), (1,0), (0,1), (-1,0)]\n",
    "world[good_start[0]][good_start[1]] = '🤖'\n",
    "world[bad_start[0]][bad_start[1]] = '👾'\n",
    "world[goal[0]][goal[1]] = '❤️'\n",
    "good_strategy = MINIMAX\n",
    "bad_strategy = random_strategy\n",
    "depth = 2\n",
    "scoring = goodScoring\n",
    "\n",
    "result_1 = run_robot_game(world, good_start, bad_start, goal, MOVES, good_strategy, bad_strategy, depth, scoring)\n",
    "\n",
    "for row in world:\n",
    "    print(\"\".join(row))\n"
   ]
  },
  {
   "attachments": {},
   "cell_type": "markdown",
   "metadata": {},
   "source": [
    "<a id=\"breadth_first_search\"></a>\n",
    "## run_robot_game2\n",
    "\n",
    "Robot game where both players use minimax\n",
    "\n",
    "* **world** List[List[str]]: the search area\n",
    "* **good_start** Tuple[int, int]: the starting location of the good robot\n",
    "* **bad_start** Tuple[int, int]: the starting location of the bad robot\n",
    "* **goal** Tuple[int, int]: the goal location in the world\n",
    "* **moves** List[Tuple[int, int]]: the allowable moves in the world\n",
    "* **good_strategy** str: name of strategy to use for good robot: either random_strategy or MINIMAX with option to set depth\n",
    "* **bad_strategy** str: name of strategy to use for bad robot: either random_strategy or MINIMAX with option to set depth\n",
    "* **good_depth** int: the depth of minimax function for the good robot\n",
    "* **bad_depth** int: the depth of minimax function for the bad robot\n",
    "* **good_scoring** function: the scoring system used by the good robot\n",
    "* **bad_scoring** function: the scoring system used by the bad robot\n",
    "\n",
    "\n",
    "**returns** None (but prints out a nice view of the world and replaces appropriate cells)."
   ]
  },
  {
   "cell_type": "code",
   "execution_count": 18,
   "metadata": {},
   "outputs": [],
   "source": [
    "def run_robot_game2(world, good_start, bad_start, goal, moves, good_strategy, bad_strategy, good_depth, bad_depth, good_scoring, bad_scoring):\n",
    "    goodTurn = True\n",
    "    while good_start != goal and good_start != bad_start:\n",
    "        if good_start == bad_start:\n",
    "            return\n",
    "        if goodTurn:\n",
    "            bestMove = good_strategy(world, good_start, bad_start, goal, moves, good_depth, good_scoring, goodTurn)\n",
    "            world[good_start[0]][good_start[1]] = '🟩'\n",
    "            good_start = (good_start[0] + bestMove[0], good_start[1] + bestMove[1])\n",
    "            world[good_start[0]][good_start[1]] = '🤖'\n",
    "            goodTurn = not goodTurn\n",
    "        else:\n",
    "            bestMove = bad_strategy(world, bad_start, good_start, goal, moves, bad_depth, bad_scoring, goodTurn)\n",
    "            world[bad_start[0]][bad_start[1]] = '🟥'\n",
    "            bad_start = (bad_start[0] + bestMove[0], bad_start[1] + bestMove[1])\n",
    "            world[bad_start[0]][bad_start[1]] = '👾'\n",
    "            goodTurn = not goodTurn"
   ]
  },
  {
   "cell_type": "code",
   "execution_count": 19,
   "metadata": {},
   "outputs": [
    {
     "name": "stdout",
     "output_type": "stream",
     "text": [
      "🟩🟩🟩🟩🟩🟩🟩🟩🟩🟩🟩🟩🟩🟩🟩🟩🟩🟩🟩🟩🤖\n",
      "🟩⬜⬜⬜⬜⬜⬜⬜⬜⬜⬜⬜⬜⬜⬜⬜⬜⬜⬜⬜⬜\n",
      "🟩⬜⬜⬜⬜⬜⬜⬜⬜⬜⬜⬜⬜⬜⬜⬜⬜⬜⬜⬜⬜\n",
      "🟩⬜⬜⬜⬜⬜⬜⬜🟥🟥🟥🟥🟥🟥🟥🟥🟥🟥👾⬜⬜\n",
      "🟩⬜⬜⬜⬜⬜⬜⬜🟥⬜⬜⬜⬜⬜⬜⬜⬜⬜⬜⬜⬜\n",
      "🟩⬜⬜⬜⬜⬜⬜⬜🟥⬜⬜⬜⬜⬜⬜⬜⬜⬜⬜⬜⬜\n",
      "🟩⬜⬜⬜⬜⬜⬜⬜🟥⬜⬜⬜⬜⬜⬜⬜⬜⬜⬜⬜⬜\n",
      "🟩⬜⬜⬜⬜⬜⬜⬜🟥⬜⬜⬜⬜⬜⬜⬜⬜⬜⬜⬜⬜\n",
      "🟩⬜⬜⬜⬜⬜⬜⬜🟥⬜⬜⬜⬜⬜⬜⬜⬜⬜⬜⬜⬜\n",
      "🟩⬜⬜⬜⬜⬜⬜⬜🟥⬛⬛⬛⬜⬜⬜⬜⬜⬜⬜⬜⬜\n",
      "🟩⬜⬜⬜⬜⬜⬜⬜🟥⬛⬛⬛⬜⬜⬜⬜⬜⬜⬜⬜⬜\n",
      "🟩⬜⬜⬜⬜⬜⬜⬜🟥⬛⬛⬛⬜⬜⬜⬜⬜⬜⬜⬜⬜\n",
      "🟩⬜⬜⬜⬜⬜⬜⬜🟥🟥🟥⬜⬜⬜⬜⬜⬜⬜⬜⬜⬜\n",
      "🟩⬜⬜⬜⬜⬜⬜⬜⬜⬜🟥⬜⬜⬜⬜⬜⬜⬜⬜⬜⬜\n",
      "🟩⬜⬜⬜⬜⬜⬜⬜⬜⬜🟥⬜⬜⬜⬜⬜⬜⬜⬜⬜⬜\n",
      "🟩⬜⬜⬜⬜⬜⬜⬜⬜⬜🟥⬜⬜⬜⬜⬜⬜⬜⬜⬜⬜\n",
      "🟩⬜⬜⬜⬜⬜⬜⬜⬜⬜🟥⬜⬜⬜⬜⬜⬜⬜⬜⬜⬜\n",
      "🟩⬜⬜⬜⬜⬜⬜⬜⬜⬜🟥⬜⬜⬜⬜⬜⬜⬜⬜⬜⬜\n",
      "🟩⬜⬜⬜⬜⬜⬜⬜⬜⬜🟥⬜⬜⬜⬜⬜⬜⬜⬜⬜⬜\n",
      "🟩⬜⬜⬜⬜⬜⬜⬜⬜⬜🟥⬜⬜⬜⬜⬜⬜⬜⬜⬜⬜\n",
      "🟩⬜⬜⬜⬜⬜⬜⬜⬜⬜🟥🟥🟥🟥🟥🟥🟥🟥🟥🟥🟥\n"
     ]
    }
   ],
   "source": [
    "world = [\n",
    "['⬜','⬜','⬜','⬜','⬜','⬜','⬜','⬜','⬜','⬜','⬜','⬜','⬜','⬜','⬜','⬜','⬜','⬜','⬜','⬜','⬜'],\n",
    "['⬜','⬜','⬜','⬜','⬜','⬜','⬜','⬜','⬜','⬜','⬜','⬜','⬜','⬜','⬜','⬜','⬜','⬜','⬜','⬜','⬜'],\n",
    "['⬜','⬜','⬜','⬜','⬜','⬜','⬜','⬜','⬜','⬜','⬜','⬜','⬜','⬜','⬜','⬜','⬜','⬜','⬜','⬜','⬜'],\n",
    "['⬜','⬜','⬜','⬜','⬜','⬜','⬜','⬜','⬜','⬜','⬜','⬜','⬜','⬜','⬜','⬜','⬜','⬜','⬜','⬜','⬜'],\n",
    "['⬜','⬜','⬜','⬜','⬜','⬜','⬜','⬜','⬜','⬜','⬜','⬜','⬜','⬜','⬜','⬜','⬜','⬜','⬜','⬜','⬜'],\n",
    "['⬜','⬜','⬜','⬜','⬜','⬜','⬜','⬜','⬜','⬜','⬜','⬜','⬜','⬜','⬜','⬜','⬜','⬜','⬜','⬜','⬜'],\n",
    "['⬜','⬜','⬜','⬜','⬜','⬜','⬜','⬜','⬜','⬜','⬜','⬜','⬜','⬜','⬜','⬜','⬜','⬜','⬜','⬜','⬜'],\n",
    "['⬜','⬜','⬜','⬜','⬜','⬜','⬜','⬜','⬜','⬜','⬜','⬜','⬜','⬜','⬜','⬜','⬜','⬜','⬜','⬜','⬜'],\n",
    "['⬜','⬜','⬜','⬜','⬜','⬜','⬜','⬜','⬜','⬜','⬜','⬜','⬜','⬜','⬜','⬜','⬜','⬜','⬜','⬜','⬜'],\n",
    "['⬜','⬜','⬜','⬜','⬜','⬜','⬜','⬜','⬜','⬛','⬛','⬛','⬜','⬜','⬜','⬜','⬜','⬜','⬜','⬜','⬜'],\n",
    "['⬜','⬜','⬜','⬜','⬜','⬜','⬜','⬜','⬜','⬛','⬛','⬛','⬜','⬜','⬜','⬜','⬜','⬜','⬜','⬜','⬜'],\n",
    "['⬜','⬜','⬜','⬜','⬜','⬜','⬜','⬜','⬜','⬛','⬛','⬛','⬜','⬜','⬜','⬜','⬜','⬜','⬜','⬜','⬜'],\n",
    "['⬜','⬜','⬜','⬜','⬜','⬜','⬜','⬜','⬜','⬜','⬜','⬜','⬜','⬜','⬜','⬜','⬜','⬜','⬜','⬜','⬜'],\n",
    "['⬜','⬜','⬜','⬜','⬜','⬜','⬜','⬜','⬜','⬜','⬜','⬜','⬜','⬜','⬜','⬜','⬜','⬜','⬜','⬜','⬜'],\n",
    "['⬜','⬜','⬜','⬜','⬜','⬜','⬜','⬜','⬜','⬜','⬜','⬜','⬜','⬜','⬜','⬜','⬜','⬜','⬜','⬜','⬜'],\n",
    "['⬜','⬜','⬜','⬜','⬜','⬜','⬜','⬜','⬜','⬜','⬜','⬜','⬜','⬜','⬜','⬜','⬜','⬜','⬜','⬜','⬜'],\n",
    "['⬜','⬜','⬜','⬜','⬜','⬜','⬜','⬜','⬜','⬜','⬜','⬜','⬜','⬜','⬜','⬜','⬜','⬜','⬜','⬜','⬜'],\n",
    "['⬜','⬜','⬜','⬜','⬜','⬜','⬜','⬜','⬜','⬜','⬜','⬜','⬜','⬜','⬜','⬜','⬜','⬜','⬜','⬜','⬜'],\n",
    "['⬜','⬜','⬜','⬜','⬜','⬜','⬜','⬜','⬜','⬜','⬜','⬜','⬜','⬜','⬜','⬜','⬜','⬜','⬜','⬜','⬜'],\n",
    "['⬜','⬜','⬜','⬜','⬜','⬜','⬜','⬜','⬜','⬜','⬜','⬜','⬜','⬜','⬜','⬜','⬜','⬜','⬜','⬜','⬜'],\n",
    "['⬜','⬜','⬜','⬜','⬜','⬜','⬜','⬜','⬜','⬜','⬜','⬜','⬜','⬜','⬜','⬜','⬜','⬜','⬜','⬜','⬜']]\n",
    "good_start = (len(world)-1, 0)\n",
    "bad_start = (len(world)-1, len(world)-1)\n",
    "goal = (0, len(world)-1)\n",
    "MOVES = [(0,-1), (1,0), (0,1), (-1,0)]\n",
    "world[good_start[0]][good_start[1]] = '🤖'\n",
    "world[bad_start[0]][bad_start[1]] = '👾'\n",
    "world[goal[0]][goal[1]] = '❤️'\n",
    "good_strategy = MINIMAX\n",
    "bad_strategy = MINIMAX\n",
    "good_depth = 2\n",
    "bad_depth = 2\n",
    "good_scoring = goodScoring\n",
    "bad_scoring = badScoring\n",
    "\n",
    "result_2 = run_robot_game2(world, good_start, bad_start, goal, MOVES, good_strategy, bad_strategy, good_depth, bad_depth, good_scoring, bad_scoring)\n",
    "\n",
    "for row in world:\n",
    "    print(\"\".join(row))\n"
   ]
  },
  {
   "cell_type": "code",
   "execution_count": 20,
   "metadata": {},
   "outputs": [
    {
     "name": "stdout",
     "output_type": "stream",
     "text": [
      "🟩🟩🟩🟩🟩🟩🟩🟩🟩🟩🟩🟩🟩🟩🟩🟩🟩🟩🟩🟩🤖\n",
      "🟩⬜⬜⬜⬜⬜⬜⬜⬜⬜⬜⬜⬜⬜⬜⬜⬜⬜⬜⬜⬜\n",
      "🟩⬜⬜⬜⬜⬜⬜⬜⬜⬜⬜⬜⬜⬜⬜⬜⬜⬜⬜⬜⬜\n",
      "🟩⬜⬜⬜⬜⬜⬜⬜⬜⬜⬜⬜⬜⬜⬜⬜⬜⬜⬜⬜⬜\n",
      "🟩⬜⬜⬜⬜⬜⬜⬜⬜⬜⬜⬜⬜⬜⬜⬜⬜⬜⬜⬜⬜\n",
      "🟩⬜⬜⬜⬜⬜⬜⬜⬜⬜⬜⬜⬜⬜⬜⬜⬜⬜⬜⬜⬜\n",
      "🟩⬜⬜⬜⬜⬜⬜⬜⬜⬜⬜⬜⬜⬜⬜⬜⬜👾⬜⬜⬜\n",
      "🟩⬜⬜⬜⬜⬜⬜⬜⬜⬜⬜⬜⬜⬜⬜⬜🟥🟥⬜⬜⬜\n",
      "🟩⬜⬜⬜⬜⬜🟥🟥🟥🟥🟥🟥🟥🟥🟥🟥🟥⬜⬜⬜⬜\n",
      "🟩⬜⬜⬜⬜⬜🟥⬜⬜⬛⬛⬛⬜⬜⬜⬜⬜⬜⬜⬜⬜\n",
      "🟩⬜⬜⬜⬜⬜🟥🟥⬜⬛⬛⬛⬜⬜⬜⬜⬜⬜⬜⬜⬜\n",
      "🟩⬜⬜⬜⬜⬜⬜🟥🟥⬛⬛⬛⬜⬜⬜⬜⬜⬜⬜⬜⬜\n",
      "🟩⬜⬜⬜⬜⬜⬜⬜🟥⬜⬜⬜⬜⬜⬜⬜⬜⬜⬜⬜⬜\n",
      "🟩⬜⬜⬜⬜⬜⬜⬜🟥⬜⬜⬜⬜⬜⬜⬜⬜⬜⬜⬜⬜\n",
      "🟩⬜⬜⬜⬜⬜⬜⬜🟥⬜⬜⬜⬜⬜⬜⬜⬜⬜⬜⬜⬜\n",
      "🟩⬜⬜⬜⬜⬜⬜⬜🟥🟥🟥⬜⬜⬜⬜⬜⬜⬜⬜⬜⬜\n",
      "🟩⬜⬜⬜⬜⬜⬜⬜⬜⬜🟥⬜⬜⬜⬜⬜⬜⬜⬜⬜⬜\n",
      "🟩⬜⬜⬜⬜⬜⬜⬜⬜⬜🟥⬜⬜⬜⬜⬜⬜⬜⬜⬜⬜\n",
      "🟩⬜⬜⬜⬜⬜⬜⬜⬜⬜🟥⬜⬜⬜⬜⬜⬜⬜⬜⬜⬜\n",
      "🟩⬜⬜⬜⬜⬜⬜⬜⬜⬜🟥⬜⬜⬜⬜⬜⬜⬜⬜⬜⬜\n",
      "🟩⬜⬜⬜⬜⬜⬜⬜⬜⬜🟥🟥🟥🟥🟥🟥🟥🟥🟥🟥🟥\n"
     ]
    }
   ],
   "source": [
    "world = [\n",
    "['⬜','⬜','⬜','⬜','⬜','⬜','⬜','⬜','⬜','⬜','⬜','⬜','⬜','⬜','⬜','⬜','⬜','⬜','⬜','⬜','⬜'],\n",
    "['⬜','⬜','⬜','⬜','⬜','⬜','⬜','⬜','⬜','⬜','⬜','⬜','⬜','⬜','⬜','⬜','⬜','⬜','⬜','⬜','⬜'],\n",
    "['⬜','⬜','⬜','⬜','⬜','⬜','⬜','⬜','⬜','⬜','⬜','⬜','⬜','⬜','⬜','⬜','⬜','⬜','⬜','⬜','⬜'],\n",
    "['⬜','⬜','⬜','⬜','⬜','⬜','⬜','⬜','⬜','⬜','⬜','⬜','⬜','⬜','⬜','⬜','⬜','⬜','⬜','⬜','⬜'],\n",
    "['⬜','⬜','⬜','⬜','⬜','⬜','⬜','⬜','⬜','⬜','⬜','⬜','⬜','⬜','⬜','⬜','⬜','⬜','⬜','⬜','⬜'],\n",
    "['⬜','⬜','⬜','⬜','⬜','⬜','⬜','⬜','⬜','⬜','⬜','⬜','⬜','⬜','⬜','⬜','⬜','⬜','⬜','⬜','⬜'],\n",
    "['⬜','⬜','⬜','⬜','⬜','⬜','⬜','⬜','⬜','⬜','⬜','⬜','⬜','⬜','⬜','⬜','⬜','⬜','⬜','⬜','⬜'],\n",
    "['⬜','⬜','⬜','⬜','⬜','⬜','⬜','⬜','⬜','⬜','⬜','⬜','⬜','⬜','⬜','⬜','⬜','⬜','⬜','⬜','⬜'],\n",
    "['⬜','⬜','⬜','⬜','⬜','⬜','⬜','⬜','⬜','⬜','⬜','⬜','⬜','⬜','⬜','⬜','⬜','⬜','⬜','⬜','⬜'],\n",
    "['⬜','⬜','⬜','⬜','⬜','⬜','⬜','⬜','⬜','⬛','⬛','⬛','⬜','⬜','⬜','⬜','⬜','⬜','⬜','⬜','⬜'],\n",
    "['⬜','⬜','⬜','⬜','⬜','⬜','⬜','⬜','⬜','⬛','⬛','⬛','⬜','⬜','⬜','⬜','⬜','⬜','⬜','⬜','⬜'],\n",
    "['⬜','⬜','⬜','⬜','⬜','⬜','⬜','⬜','⬜','⬛','⬛','⬛','⬜','⬜','⬜','⬜','⬜','⬜','⬜','⬜','⬜'],\n",
    "['⬜','⬜','⬜','⬜','⬜','⬜','⬜','⬜','⬜','⬜','⬜','⬜','⬜','⬜','⬜','⬜','⬜','⬜','⬜','⬜','⬜'],\n",
    "['⬜','⬜','⬜','⬜','⬜','⬜','⬜','⬜','⬜','⬜','⬜','⬜','⬜','⬜','⬜','⬜','⬜','⬜','⬜','⬜','⬜'],\n",
    "['⬜','⬜','⬜','⬜','⬜','⬜','⬜','⬜','⬜','⬜','⬜','⬜','⬜','⬜','⬜','⬜','⬜','⬜','⬜','⬜','⬜'],\n",
    "['⬜','⬜','⬜','⬜','⬜','⬜','⬜','⬜','⬜','⬜','⬜','⬜','⬜','⬜','⬜','⬜','⬜','⬜','⬜','⬜','⬜'],\n",
    "['⬜','⬜','⬜','⬜','⬜','⬜','⬜','⬜','⬜','⬜','⬜','⬜','⬜','⬜','⬜','⬜','⬜','⬜','⬜','⬜','⬜'],\n",
    "['⬜','⬜','⬜','⬜','⬜','⬜','⬜','⬜','⬜','⬜','⬜','⬜','⬜','⬜','⬜','⬜','⬜','⬜','⬜','⬜','⬜'],\n",
    "['⬜','⬜','⬜','⬜','⬜','⬜','⬜','⬜','⬜','⬜','⬜','⬜','⬜','⬜','⬜','⬜','⬜','⬜','⬜','⬜','⬜'],\n",
    "['⬜','⬜','⬜','⬜','⬜','⬜','⬜','⬜','⬜','⬜','⬜','⬜','⬜','⬜','⬜','⬜','⬜','⬜','⬜','⬜','⬜'],\n",
    "['⬜','⬜','⬜','⬜','⬜','⬜','⬜','⬜','⬜','⬜','⬜','⬜','⬜','⬜','⬜','⬜','⬜','⬜','⬜','⬜','⬜']]\n",
    "good_start = (len(world)-1, 0)\n",
    "bad_start = (len(world)-1, len(world)-1)\n",
    "goal = (0, len(world)-1)\n",
    "MOVES = [(0,-1), (1,0), (0,1), (-1,0)]\n",
    "world[good_start[0]][good_start[1]] = '🤖'\n",
    "world[bad_start[0]][bad_start[1]] = '👾'\n",
    "world[goal[0]][goal[1]] = '❤️'\n",
    "good_strategy = MINIMAX\n",
    "bad_strategy = MINIMAX\n",
    "good_depth = 2\n",
    "bad_depth = 8\n",
    "good_scoring = goodScoring\n",
    "bad_scoring = badScoring\n",
    "\n",
    "result_3 = run_robot_game2(world, good_start, bad_start, goal, MOVES, good_strategy, bad_strategy, good_depth, bad_depth, good_scoring, bad_scoring)\n",
    "\n",
    "for row in world:\n",
    "    print(\"\".join(row))\n"
   ]
  },
  {
   "attachments": {},
   "cell_type": "markdown",
   "metadata": {},
   "source": [
    "<a id=\"breadth_first_search\"></a>\n",
    "## badScoring2\n",
    "\n",
    "Scoring function for bad robot where the bad robot knows the good robot is trying to reach the goal\n",
    "\n",
    "* **currLocation** Tuple[int, int]: the location of the current robot\n",
    "* **oppLocation** Tuple[int, int]: the location of the opposing robot\n",
    "* **goal** Tuple[int, int]: the location of the goal\n",
    "\n",
    "\n",
    "**returns** int: score for the potential move"
   ]
  },
  {
   "cell_type": "code",
   "execution_count": 21,
   "metadata": {},
   "outputs": [],
   "source": [
    "def badScoring2(currLocation, oppLocation, goal):\n",
    "    score = -(2 * math.dist(currLocation, oppLocation))\n",
    "    score -= math.dist(currLocation, goal)\n",
    "    return score"
   ]
  },
  {
   "cell_type": "code",
   "execution_count": 22,
   "metadata": {},
   "outputs": [
    {
     "name": "stdout",
     "output_type": "stream",
     "text": [
      "🟩🟩🟩🟩🟩🟩🟩🟩🟩🟩👾⬜⬜⬜⬜⬜⬜⬜⬜⬜❤️\n",
      "🟩⬜⬜⬜⬜⬜⬜⬜⬜⬜🟥🟥⬜⬜⬜⬜⬜⬜⬜⬜⬜\n",
      "🟩⬜⬜⬜⬜⬜⬜⬜⬜⬜⬜🟥🟥⬜⬜⬜⬜⬜⬜⬜⬜\n",
      "🟩⬜⬜⬜⬜⬜⬜⬜⬜⬜⬜⬜🟥🟥🟥⬜⬜⬜⬜⬜⬜\n",
      "🟩⬜⬜⬜⬜⬜⬜⬜⬜⬜⬜⬜⬜⬜🟥🟥⬜⬜⬜⬜⬜\n",
      "🟩⬜⬜⬜⬜⬜⬜⬜⬜⬜⬜⬜⬜⬜⬜🟥⬜⬜⬜⬜⬜\n",
      "🟩⬜⬜⬜⬜⬜⬜⬜⬜⬜⬜⬜⬜⬜⬜🟥⬜⬜⬜⬜⬜\n",
      "🟩⬜⬜⬜⬜⬜⬜⬜⬜⬜⬜⬜⬜⬜⬜🟥⬜⬜⬜⬜⬜\n",
      "🟩⬜⬜⬜⬜⬜⬜⬜⬜⬜⬜⬜⬜⬜⬜🟥⬜⬜⬜⬜⬜\n",
      "🟩⬜⬜⬜⬜⬜⬜⬜⬜⬛⬛⬛⬜⬜⬜🟥⬜⬜⬜⬜⬜\n",
      "🟩⬜⬜⬜⬜⬜⬜⬜⬜⬛⬛⬛⬜⬜⬜🟥⬜⬜⬜⬜⬜\n",
      "🟩⬜⬜⬜⬜⬜⬜⬜⬜⬛⬛⬛⬜⬜⬜🟥⬜⬜⬜⬜⬜\n",
      "🟩⬜⬜⬜⬜⬜⬜⬜⬜⬜⬜⬜⬜⬜⬜🟥⬜⬜⬜⬜⬜\n",
      "🟩⬜⬜⬜⬜⬜⬜⬜⬜⬜⬜⬜⬜⬜⬜🟥⬜⬜⬜⬜⬜\n",
      "🟩⬜⬜⬜⬜⬜⬜⬜⬜⬜⬜⬜⬜⬜⬜🟥⬜⬜⬜⬜⬜\n",
      "🟩⬜⬜⬜⬜⬜⬜⬜⬜⬜⬜⬜⬜⬜⬜🟥⬜⬜⬜⬜⬜\n",
      "🟩⬜⬜⬜⬜⬜⬜⬜⬜⬜⬜⬜⬜⬜⬜🟥⬜⬜⬜⬜⬜\n",
      "🟩⬜⬜⬜⬜⬜⬜⬜⬜⬜⬜⬜⬜⬜⬜🟥⬜⬜⬜⬜⬜\n",
      "🟩⬜⬜⬜⬜⬜⬜⬜⬜⬜⬜⬜⬜⬜⬜🟥⬜⬜⬜⬜⬜\n",
      "🟩⬜⬜⬜⬜⬜⬜⬜⬜⬜⬜⬜⬜⬜⬜🟥⬜⬜⬜⬜⬜\n",
      "🟩⬜⬜⬜⬜⬜⬜⬜⬜⬜⬜⬜⬜⬜⬜🟥🟥🟥🟥🟥🟥\n"
     ]
    }
   ],
   "source": [
    "world = [\n",
    "['⬜','⬜','⬜','⬜','⬜','⬜','⬜','⬜','⬜','⬜','⬜','⬜','⬜','⬜','⬜','⬜','⬜','⬜','⬜','⬜','⬜'],\n",
    "['⬜','⬜','⬜','⬜','⬜','⬜','⬜','⬜','⬜','⬜','⬜','⬜','⬜','⬜','⬜','⬜','⬜','⬜','⬜','⬜','⬜'],\n",
    "['⬜','⬜','⬜','⬜','⬜','⬜','⬜','⬜','⬜','⬜','⬜','⬜','⬜','⬜','⬜','⬜','⬜','⬜','⬜','⬜','⬜'],\n",
    "['⬜','⬜','⬜','⬜','⬜','⬜','⬜','⬜','⬜','⬜','⬜','⬜','⬜','⬜','⬜','⬜','⬜','⬜','⬜','⬜','⬜'],\n",
    "['⬜','⬜','⬜','⬜','⬜','⬜','⬜','⬜','⬜','⬜','⬜','⬜','⬜','⬜','⬜','⬜','⬜','⬜','⬜','⬜','⬜'],\n",
    "['⬜','⬜','⬜','⬜','⬜','⬜','⬜','⬜','⬜','⬜','⬜','⬜','⬜','⬜','⬜','⬜','⬜','⬜','⬜','⬜','⬜'],\n",
    "['⬜','⬜','⬜','⬜','⬜','⬜','⬜','⬜','⬜','⬜','⬜','⬜','⬜','⬜','⬜','⬜','⬜','⬜','⬜','⬜','⬜'],\n",
    "['⬜','⬜','⬜','⬜','⬜','⬜','⬜','⬜','⬜','⬜','⬜','⬜','⬜','⬜','⬜','⬜','⬜','⬜','⬜','⬜','⬜'],\n",
    "['⬜','⬜','⬜','⬜','⬜','⬜','⬜','⬜','⬜','⬜','⬜','⬜','⬜','⬜','⬜','⬜','⬜','⬜','⬜','⬜','⬜'],\n",
    "['⬜','⬜','⬜','⬜','⬜','⬜','⬜','⬜','⬜','⬛','⬛','⬛','⬜','⬜','⬜','⬜','⬜','⬜','⬜','⬜','⬜'],\n",
    "['⬜','⬜','⬜','⬜','⬜','⬜','⬜','⬜','⬜','⬛','⬛','⬛','⬜','⬜','⬜','⬜','⬜','⬜','⬜','⬜','⬜'],\n",
    "['⬜','⬜','⬜','⬜','⬜','⬜','⬜','⬜','⬜','⬛','⬛','⬛','⬜','⬜','⬜','⬜','⬜','⬜','⬜','⬜','⬜'],\n",
    "['⬜','⬜','⬜','⬜','⬜','⬜','⬜','⬜','⬜','⬜','⬜','⬜','⬜','⬜','⬜','⬜','⬜','⬜','⬜','⬜','⬜'],\n",
    "['⬜','⬜','⬜','⬜','⬜','⬜','⬜','⬜','⬜','⬜','⬜','⬜','⬜','⬜','⬜','⬜','⬜','⬜','⬜','⬜','⬜'],\n",
    "['⬜','⬜','⬜','⬜','⬜','⬜','⬜','⬜','⬜','⬜','⬜','⬜','⬜','⬜','⬜','⬜','⬜','⬜','⬜','⬜','⬜'],\n",
    "['⬜','⬜','⬜','⬜','⬜','⬜','⬜','⬜','⬜','⬜','⬜','⬜','⬜','⬜','⬜','⬜','⬜','⬜','⬜','⬜','⬜'],\n",
    "['⬜','⬜','⬜','⬜','⬜','⬜','⬜','⬜','⬜','⬜','⬜','⬜','⬜','⬜','⬜','⬜','⬜','⬜','⬜','⬜','⬜'],\n",
    "['⬜','⬜','⬜','⬜','⬜','⬜','⬜','⬜','⬜','⬜','⬜','⬜','⬜','⬜','⬜','⬜','⬜','⬜','⬜','⬜','⬜'],\n",
    "['⬜','⬜','⬜','⬜','⬜','⬜','⬜','⬜','⬜','⬜','⬜','⬜','⬜','⬜','⬜','⬜','⬜','⬜','⬜','⬜','⬜'],\n",
    "['⬜','⬜','⬜','⬜','⬜','⬜','⬜','⬜','⬜','⬜','⬜','⬜','⬜','⬜','⬜','⬜','⬜','⬜','⬜','⬜','⬜'],\n",
    "['⬜','⬜','⬜','⬜','⬜','⬜','⬜','⬜','⬜','⬜','⬜','⬜','⬜','⬜','⬜','⬜','⬜','⬜','⬜','⬜','⬜']]\n",
    "good_start = (len(world)-1, 0)\n",
    "bad_start = (len(world)-1, len(world)-1)\n",
    "goal = (0, len(world)-1)\n",
    "MOVES = [(0,-1), (1,0), (0,1), (-1,0)]\n",
    "world[good_start[0]][good_start[1]] = '🤖'\n",
    "world[bad_start[0]][bad_start[1]] = '👾'\n",
    "world[goal[0]][goal[1]] = '❤️'\n",
    "good_strategy = MINIMAX\n",
    "bad_strategy = MINIMAX\n",
    "good_depth = 2\n",
    "bad_depth = 2\n",
    "good_scoring = goodScoring\n",
    "bad_scoring = badScoring2\n",
    "\n",
    "result_4 = run_robot_game2(world, good_start, bad_start, goal, MOVES, good_strategy, bad_strategy, good_depth, bad_depth, good_scoring, bad_scoring)\n",
    "\n",
    "for row in world:\n",
    "    print(\"\".join(row))\n"
   ]
  }
 ],
 "metadata": {
  "kernelspec": {
   "display_name": "Python 3",
   "language": "python",
   "name": "python3"
  },
  "language_info": {
   "codemirror_mode": {
    "name": "ipython",
    "version": 3
   },
   "file_extension": ".py",
   "mimetype": "text/x-python",
   "name": "python",
   "nbconvert_exporter": "python",
   "pygments_lexer": "ipython3",
   "version": "3.9.14"
  },
  "toc": {
   "colors": {
    "hover_highlight": "#DAA520",
    "navigate_num": "#000000",
    "navigate_text": "#333333",
    "running_highlight": "#FF0000",
    "selected_highlight": "#FFD700",
    "sidebar_border": "#EEEEEE",
    "wrapper_background": "#FFFFFF"
   },
   "moveMenuLeft": true,
   "nav_menu": {
    "height": "192px",
    "width": "252px"
   },
   "navigate_menu": true,
   "number_sections": true,
   "sideBar": true,
   "threshold": 4,
   "toc_cell": false,
   "toc_section_display": "block",
   "toc_window_display": false,
   "widenNotebook": false
  }
 },
 "nbformat": 4,
 "nbformat_minor": 4
}
